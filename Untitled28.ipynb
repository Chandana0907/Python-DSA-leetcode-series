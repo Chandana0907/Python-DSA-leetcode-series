{
 "cells": [
  {
   "cell_type": "code",
   "execution_count": 2,
   "id": "6579fe1e-88f1-4299-92e2-d1ca5f1c3cea",
   "metadata": {},
   "outputs": [
    {
     "name": "stdout",
     "output_type": "stream",
     "text": [
      "[5, 4, 3, 2, 1]\n"
     ]
    }
   ],
   "source": [
    "#reverse\n",
    "coord=[1,2,3,4,5]\n",
    "coord.reverse()\n",
    "print(coord)"
   ]
  },
  {
   "cell_type": "code",
   "execution_count": 6,
   "id": "27ab2a95-601e-4733-8760-f4648bb00579",
   "metadata": {},
   "outputs": [
    {
     "name": "stdout",
     "output_type": "stream",
     "text": [
      "[1, 2, 3, 4, 5]\n"
     ]
    }
   ],
   "source": [
    "#second largest\n",
    "coord.sort()\n",
    "print(coord)"
   ]
  },
  {
   "cell_type": "code",
   "execution_count": 16,
   "id": "44a6d52e-48c8-42d4-833b-fae15828bcc1",
   "metadata": {},
   "outputs": [
    {
     "name": "stdout",
     "output_type": "stream",
     "text": [
      "45\n"
     ]
    }
   ],
   "source": [
    "coord1=[10,20,4,45,99]\n",
    "coord1.sort()\n",
    "print(coord1[-2])\n",
    "    "
   ]
  },
  {
   "cell_type": "code",
   "execution_count": 21,
   "id": "a8c2621e-7195-4e59-a246-5790d797b651",
   "metadata": {},
   "outputs": [
    {
     "data": {
      "text/plain": [
       "[1, 2, 3, 4]"
      ]
     },
     "execution_count": 21,
     "metadata": {},
     "output_type": "execute_result"
    }
   ],
   "source": [
    "#remove duplicates\n",
    "def duplicate(input):\n",
    "    #input=[1,2,2,3,1,4]\n",
    "    result=[]\n",
    "    for item in input:\n",
    "        if item not in result:\n",
    "            result.append(item)\n",
    "    return result\n",
    "duplicate([1,2,3,1,4])"
   ]
  },
  {
   "cell_type": "code",
   "execution_count": 15,
   "id": "15f7cdad-38e1-4d65-beab-d2dcbf045af8",
   "metadata": {},
   "outputs": [
    {
     "name": "stdout",
     "output_type": "stream",
     "text": [
      "[4, 5, 1, 2, 3]\n"
     ]
    }
   ],
   "source": [
    "#rotate by k times\n",
    "input=[1,2,3,4,5]\n",
    "k=2\n",
    "rotat = input[-k:] + input[:-k]\n",
    "print(rotat)"
   ]
  },
  {
   "cell_type": "code",
   "execution_count": 37,
   "id": "b943f6a1-6d52-4d32-ac31-8c9d9ed3a8f8",
   "metadata": {},
   "outputs": [],
   "source": [
    "#flatten a nested list\n",
    "def flat(data):\n",
    "    result=[]\n",
    "    for sub in data:\n",
    "        for dat in sub:\n",
    "            result.append(dat)\n",
    "    return result\n"
   ]
  },
  {
   "cell_type": "code",
   "execution_count": 38,
   "id": "461fed60-3c32-4883-9cac-2c69112425f3",
   "metadata": {},
   "outputs": [
    {
     "name": "stdout",
     "output_type": "stream",
     "text": [
      "[[1, 2], [3, 4], [5]]\n"
     ]
    }
   ],
   "source": [
    "data=[[1,2],[3,4],[5]]\n",
    "output=flat(data)\n",
    "print(data)"
   ]
  },
  {
   "cell_type": "code",
   "execution_count": 39,
   "id": "19ea6b37-d8e2-44f4-a526-f122f8231f92",
   "metadata": {},
   "outputs": [],
   "source": [
    "##tuples"
   ]
  },
  {
   "cell_type": "code",
   "execution_count": 49,
   "id": "7f386381-3a9a-4579-bec4-1a78742755c6",
   "metadata": {},
   "outputs": [
    {
     "name": "stdout",
     "output_type": "stream",
     "text": [
      "2 1\n",
      "(1, 2)\n"
     ]
    }
   ],
   "source": [
    "input=(1,2)\n",
    "b,a=input\n",
    "print(a,b)\n",
    "swapped=(b,a)\n",
    "print(swapped)"
   ]
  },
  {
   "cell_type": "code",
   "execution_count": 51,
   "id": "00c00d5f-b647-4043-80cc-220d376472ed",
   "metadata": {},
   "outputs": [],
   "source": [
    "data = [(1, 'a'), (2, 'b'), (3, 'c')]\n",
    "conv = dict(data)"
   ]
  },
  {
   "cell_type": "code",
   "execution_count": 52,
   "id": "6c07d270-8ac3-4ef6-947a-57194af0ec47",
   "metadata": {},
   "outputs": [
    {
     "name": "stdout",
     "output_type": "stream",
     "text": [
      "{1: 'a', 2: 'b', 3: 'c'}\n"
     ]
    }
   ],
   "source": [
    "print(conv)"
   ]
  },
  {
   "cell_type": "code",
   "execution_count": 53,
   "id": "57e2dd59-7955-400b-a499-ec3f7fe14220",
   "metadata": {},
   "outputs": [
    {
     "name": "stdout",
     "output_type": "stream",
     "text": [
      "{'a': 1, 'b': 2, 'c': 3, 'd': 4}\n"
     ]
    }
   ],
   "source": [
    "###dictionary\n",
    "dict1 = {'a': 1, 'b': 2}\n",
    "dict2 = {'c': 3, 'd': 4}\n",
    "\n",
    "# Python 3.5+\n",
    "merged = {**dict1, **dict2}\n",
    "print(merged)  # {'a': 1, 'b': 2, 'c': 3, 'd': 4}\n"
   ]
  },
  {
   "cell_type": "code",
   "execution_count": 54,
   "id": "39cbf948-e95e-4369-b9dc-1d7b55c92fa2",
   "metadata": {},
   "outputs": [
    {
     "name": "stdout",
     "output_type": "stream",
     "text": [
      "olleh\n"
     ]
    }
   ],
   "source": [
    "#Reverse a string\n",
    "\n",
    "#Count vowels in a string\n",
    "\n",
    "#Palindrome check\n",
    "\n",
    "\n",
    "st=\"hello\"\n",
    "reverse=st[::-1]\n",
    "print(reverse)"
   ]
  },
  {
   "cell_type": "code",
   "execution_count": 57,
   "id": "32364697-8e7f-4be7-b5f1-1fbb5ad2a8e0",
   "metadata": {},
   "outputs": [
    {
     "name": "stdout",
     "output_type": "stream",
     "text": [
      "olleh\n"
     ]
    }
   ],
   "source": [
    "text= \"hello\"\n",
    "new=''\n",
    "for char in text:\n",
    "    new= char + new\n",
    "print(new)"
   ]
  },
  {
   "cell_type": "code",
   "execution_count": 69,
   "id": "20dbb636-8df7-4a93-bbab-68a9670ded4a",
   "metadata": {},
   "outputs": [
    {
     "name": "stdout",
     "output_type": "stream",
     "text": [
      "total number of vowles are: 6\n"
     ]
    }
   ],
   "source": [
    "text='hello good morning'\n",
    "vowels=['a','e','i','o','u']\n",
    "text1=text.split()\n",
    "count=0\n",
    "for word in text1:\n",
    "    for char in word:\n",
    "        if char in vowels:\n",
    "            count+=1\n",
    "print(\"total number of vowles are:\",count)"
   ]
  },
  {
   "cell_type": "code",
   "execution_count": 70,
   "id": "0e5a6069-9604-4a0d-933d-742adbff86ce",
   "metadata": {},
   "outputs": [
    {
     "name": "stdout",
     "output_type": "stream",
     "text": [
      "Palindrome\n"
     ]
    }
   ],
   "source": [
    "##palindrome\n",
    "word='madam'\n",
    "rev=word[::-1]\n",
    "if rev==word:\n",
    "    print(\"Palindrome\")\n",
    "else:\n",
    "    print(\"Not a palindrome\")"
   ]
  },
  {
   "cell_type": "code",
   "execution_count": 74,
   "id": "7d31f3c4-709b-4f99-af6f-400df8782de2",
   "metadata": {},
   "outputs": [
    {
     "name": "stdout",
     "output_type": "stream",
     "text": [
      "Pali\n"
     ]
    }
   ],
   "source": [
    "word='madam'\n",
    "ch=''\n",
    "for char in word:\n",
    "    ch=ch+word\n",
    "    if ch==word:\n",
    "        print(\"Pali\")"
   ]
  },
  {
   "cell_type": "code",
   "execution_count": 77,
   "id": "c0794d3f-28a9-4d88-9652-3c05b01c775f",
   "metadata": {},
   "outputs": [
    {
     "name": "stdout",
     "output_type": "stream",
     "text": [
      "[1, 4, 9, 16, 25, 36, 49, 64, 81, 100]\n"
     ]
    }
   ],
   "source": [
    "## list comprehension\n",
    "#Create a list of squares for numbers from 1 to 10 using list comprehension.\n",
    "square=[x**2 for x in range(1,11)]\n",
    "print(square)"
   ]
  },
  {
   "cell_type": "code",
   "execution_count": 80,
   "id": "2ba63a53-5410-46c9-baec-27fd55b1411b",
   "metadata": {},
   "outputs": [
    {
     "name": "stdout",
     "output_type": "stream",
     "text": [
      "[2, 4, 6, 8]\n"
     ]
    }
   ],
   "source": [
    "#From a given list of numbers, create a new list containing only even numbers.\n",
    "num=[1,2,3,4,5,6,7,8]\n",
    "new=[]\n",
    "for i in num:\n",
    "    if i%2==0:\n",
    "        new.append(i)\n",
    "print(new)"
   ]
  },
  {
   "cell_type": "code",
   "execution_count": 81,
   "id": "88dc1b92-23b0-40ea-b422-35997fd304c1",
   "metadata": {},
   "outputs": [],
   "source": [
    "#list comprehension\n",
    "num=[1,2,3,4,5,6,7,8]\n",
    "new=[i for i in num if i%2==0]"
   ]
  },
  {
   "cell_type": "code",
   "execution_count": 82,
   "id": "d5a01d32-800c-44a4-847e-a6977879a274",
   "metadata": {},
   "outputs": [
    {
     "name": "stdout",
     "output_type": "stream",
     "text": [
      "[2, 4, 6, 8]\n"
     ]
    }
   ],
   "source": [
    "print(new)"
   ]
  },
  {
   "cell_type": "code",
   "execution_count": 85,
   "id": "e33cc5f3-125d-4b56-bbe2-836b39f741ea",
   "metadata": {},
   "outputs": [
    {
     "name": "stdout",
     "output_type": "stream",
     "text": [
      "['H', 'E', 'L', 'L', 'O']\n"
     ]
    }
   ],
   "source": [
    "#Given a string, create a list of its characters in uppercase.\n",
    "str='hello'\n",
    "new=[]\n",
    "for char in str:\n",
    "    new.append(char.upper())\n",
    "print(new)"
   ]
  },
  {
   "cell_type": "code",
   "execution_count": 86,
   "id": "872ecb43-9b1d-4780-ae8e-9e5b8474b31b",
   "metadata": {},
   "outputs": [
    {
     "name": "stdout",
     "output_type": "stream",
     "text": [
      "['H', 'E', 'L', 'L', 'O']\n"
     ]
    }
   ],
   "source": [
    "#list comprehension\n",
    "str='hello'\n",
    "new=[char.upper() for char in str]\n",
    "print(new)"
   ]
  },
  {
   "cell_type": "code",
   "execution_count": 106,
   "id": "085bf930-424d-4e0c-8668-1637801a5e80",
   "metadata": {},
   "outputs": [
    {
     "name": "stdout",
     "output_type": "stream",
     "text": [
      "[0, 3, 6, 9, 12, 15, 18, 21, 24, 27, 30]\n"
     ]
    }
   ],
   "source": [
    "#Generate a list of the first 10 multiples of 3.\n",
    "multiple=[i*3 for i in range(11)]\n",
    "print(multiple)"
   ]
  },
  {
   "cell_type": "code",
   "execution_count": 116,
   "id": "a811cc0e-7d3d-4a3e-9027-bb0c053d9327",
   "metadata": {},
   "outputs": [
    {
     "name": "stdout",
     "output_type": "stream",
     "text": [
      "5 6 "
     ]
    }
   ],
   "source": [
    "#Create a list of the lengths of each word in a given sentence.\n",
    "sen ='hello coders'\n",
    "new=[]\n",
    "new.append(sen.split())\n",
    "for word in new:\n",
    "    for char in word:\n",
    "        print(len(char),end=\" \")\n",
    "    "
   ]
  },
  {
   "cell_type": "code",
   "execution_count": null,
   "id": "7133999e-9598-4b93-91b8-d8f8e02dc1f9",
   "metadata": {},
   "outputs": [],
   "source": []
  },
  {
   "cell_type": "code",
   "execution_count": 104,
   "id": "42761919-d6b8-4257-834f-6e2334ddb868",
   "metadata": {},
   "outputs": [],
   "source": []
  },
  {
   "cell_type": "code",
   "execution_count": null,
   "id": "f6b784b0-d6eb-4cd1-992c-01d5f2ad2a75",
   "metadata": {},
   "outputs": [],
   "source": []
  },
  {
   "cell_type": "code",
   "execution_count": null,
   "id": "c467ce17-22cd-4c56-83d1-ccd725e5d093",
   "metadata": {},
   "outputs": [],
   "source": []
  }
 ],
 "metadata": {
  "kernelspec": {
   "display_name": "Python 3 (ipykernel)",
   "language": "python",
   "name": "python3"
  },
  "language_info": {
   "codemirror_mode": {
    "name": "ipython",
    "version": 3
   },
   "file_extension": ".py",
   "mimetype": "text/x-python",
   "name": "python",
   "nbconvert_exporter": "python",
   "pygments_lexer": "ipython3",
   "version": "3.11.7"
  }
 },
 "nbformat": 4,
 "nbformat_minor": 5
}

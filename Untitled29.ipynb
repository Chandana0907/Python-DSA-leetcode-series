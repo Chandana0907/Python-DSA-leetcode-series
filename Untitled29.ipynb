{
 "cells": [
  {
   "cell_type": "code",
   "execution_count": 8,
   "id": "d294b20f-c506-4e5f-a9ea-a5b26f1ca7e6",
   "metadata": {},
   "outputs": [
    {
     "name": "stdout",
     "output_type": "stream",
     "text": [
      "{'name': 'chandana', 'age': 21}\n"
     ]
    }
   ],
   "source": [
    "dict1={'name':'chandana','age':21}\n",
    "print(dict1)"
   ]
  },
  {
   "cell_type": "code",
   "execution_count": 9,
   "id": "1f709871-6c59-448f-a381-205dc826bdb7",
   "metadata": {},
   "outputs": [
    {
     "name": "stdout",
     "output_type": "stream",
     "text": [
      "chandana\n"
     ]
    }
   ],
   "source": [
    "print(dict1['name'])"
   ]
  },
  {
   "cell_type": "code",
   "execution_count": 10,
   "id": "e8b0e163-3250-4009-a573-4f0f5eaa9824",
   "metadata": {},
   "outputs": [
    {
     "name": "stdout",
     "output_type": "stream",
     "text": [
      "2\n"
     ]
    }
   ],
   "source": [
    "print(len(dict1))"
   ]
  },
  {
   "cell_type": "code",
   "execution_count": 11,
   "id": "d0708ce2-732a-4ab5-89a8-145bd9aa320f",
   "metadata": {},
   "outputs": [],
   "source": [
    "dict1['age']=22"
   ]
  },
  {
   "cell_type": "code",
   "execution_count": 12,
   "id": "9f6052c1-f3fe-4c51-bab8-ec27e3c2b6b6",
   "metadata": {},
   "outputs": [
    {
     "name": "stdout",
     "output_type": "stream",
     "text": [
      "{'name': 'chandana', 'age': 22}\n"
     ]
    }
   ],
   "source": [
    "print(dict1)"
   ]
  },
  {
   "cell_type": "code",
   "execution_count": 15,
   "id": "055eb623-8d53-416f-be28-8bf6484b5800",
   "metadata": {},
   "outputs": [
    {
     "name": "stdout",
     "output_type": "stream",
     "text": [
      "chandana\n"
     ]
    }
   ],
   "source": [
    "print(dict1['name'])"
   ]
  },
  {
   "cell_type": "code",
   "execution_count": 17,
   "id": "dcf64cd5-4447-47f1-b8de-bb941e8e1218",
   "metadata": {},
   "outputs": [
    {
     "data": {
      "text/plain": [
       "dict_keys(['name', 'age'])"
      ]
     },
     "execution_count": 17,
     "metadata": {},
     "output_type": "execute_result"
    }
   ],
   "source": [
    "dict.keys()"
   ]
  },
  {
   "cell_type": "code",
   "execution_count": 18,
   "id": "ae033119-a930-4fa2-b264-762b2256f525",
   "metadata": {},
   "outputs": [
    {
     "data": {
      "text/plain": [
       "dict_values(['chandana', 22])"
      ]
     },
     "execution_count": 18,
     "metadata": {},
     "output_type": "execute_result"
    }
   ],
   "source": [
    "dict.values()"
   ]
  },
  {
   "cell_type": "code",
   "execution_count": 20,
   "id": "f96514f1-a98f-46ef-aff5-24e5484acf10",
   "metadata": {},
   "outputs": [
    {
     "data": {
      "text/plain": [
       "dict_items([('name', 'chandana'), ('age', 22)])"
      ]
     },
     "execution_count": 20,
     "metadata": {},
     "output_type": "execute_result"
    }
   ],
   "source": [
    "dict.items()"
   ]
  },
  {
   "cell_type": "code",
   "execution_count": 22,
   "id": "687efc97-75f7-4a5f-8722-f37ca4f7c24a",
   "metadata": {},
   "outputs": [
    {
     "data": {
      "text/plain": [
       "'chandana'"
      ]
     },
     "execution_count": 22,
     "metadata": {},
     "output_type": "execute_result"
    }
   ],
   "source": [
    "dict1.get('name')"
   ]
  },
  {
   "cell_type": "code",
   "execution_count": 23,
   "id": "087c1a0d-89a2-4b68-9263-1990a1524e26",
   "metadata": {},
   "outputs": [
    {
     "name": "stdout",
     "output_type": "stream",
     "text": [
      "{'name': 'anu', 'age': 22}\n"
     ]
    }
   ],
   "source": [
    "#change and add values and keys\n",
    "dict1['name']='anu'\n",
    "print(dict1)"
   ]
  },
  {
   "cell_type": "code",
   "execution_count": 24,
   "id": "19110a40-96d8-47ed-8899-d5401c6ab327",
   "metadata": {},
   "outputs": [
    {
     "name": "stdout",
     "output_type": "stream",
     "text": [
      "{'name': 'anu', 'age': 22, 'branch': 'ai'}\n"
     ]
    }
   ],
   "source": [
    "dict1['branch']='ai'\n",
    "print(dict1)"
   ]
  },
  {
   "cell_type": "code",
   "execution_count": 25,
   "id": "644af1cc-a705-4a37-b2e3-77292f2dd179",
   "metadata": {},
   "outputs": [
    {
     "name": "stdout",
     "output_type": "stream",
     "text": [
      "{'name': 'harshi', 'age': 22, 'branch': 'ai'}\n"
     ]
    }
   ],
   "source": [
    "dict1.update({'name':'harshi'})\n",
    "print(dict1)"
   ]
  },
  {
   "cell_type": "code",
   "execution_count": 26,
   "id": "8b6be8a9-abdf-437f-a7ab-7d705d47c381",
   "metadata": {},
   "outputs": [],
   "source": [
    "dict1.update({'name1':'harshi'})"
   ]
  },
  {
   "cell_type": "code",
   "execution_count": 27,
   "id": "cb45fde9-bd6a-438d-89a8-4022e14472c5",
   "metadata": {},
   "outputs": [
    {
     "name": "stdout",
     "output_type": "stream",
     "text": [
      "{'name': 'harshi', 'age': 22, 'branch': 'ai', 'name1': 'harshi'}\n"
     ]
    }
   ],
   "source": [
    "print(dict1)"
   ]
  },
  {
   "cell_type": "code",
   "execution_count": 29,
   "id": "bb8d44fe-46e9-49de-8d26-28a9be562b8b",
   "metadata": {},
   "outputs": [
    {
     "data": {
      "text/plain": [
       "'harshi'"
      ]
     },
     "execution_count": 29,
     "metadata": {},
     "output_type": "execute_result"
    }
   ],
   "source": [
    "#removing items\n",
    "dict1.pop('name')"
   ]
  },
  {
   "cell_type": "code",
   "execution_count": 31,
   "id": "f5f07813-1bd0-4808-8547-8928a1ec5ff3",
   "metadata": {},
   "outputs": [
    {
     "name": "stdout",
     "output_type": "stream",
     "text": [
      "{'name': 'chandana', 'age': 22}\n"
     ]
    }
   ],
   "source": [
    "dict1.popitem()\n",
    "print(dict)"
   ]
  },
  {
   "cell_type": "code",
   "execution_count": 32,
   "id": "19b7142b-a853-478a-8bc4-1c7702faea1c",
   "metadata": {},
   "outputs": [
    {
     "data": {
      "text/plain": [
       "{'branch': 'ai'}"
      ]
     },
     "execution_count": 32,
     "metadata": {},
     "output_type": "execute_result"
    }
   ],
   "source": [
    "del dict1['age']\n",
    "dict1"
   ]
  },
  {
   "cell_type": "code",
   "execution_count": 33,
   "id": "c5fd638f-a786-41d4-ab1a-1a40b2815fc2",
   "metadata": {},
   "outputs": [],
   "source": [
    "##copy\n",
    "dict2=dict1"
   ]
  },
  {
   "cell_type": "code",
   "execution_count": 34,
   "id": "d04122a7-a805-4192-b356-7327aa013b81",
   "metadata": {},
   "outputs": [
    {
     "name": "stdout",
     "output_type": "stream",
     "text": [
      "{'branch': 'ai'}\n"
     ]
    }
   ],
   "source": [
    "print(dict2)"
   ]
  },
  {
   "cell_type": "code",
   "execution_count": null,
   "id": "07e2ddf5-a0fb-434c-be22-cf37f887d31f",
   "metadata": {},
   "outputs": [],
   "source": [
    "dict3=dict2.c"
   ]
  }
 ],
 "metadata": {
  "kernelspec": {
   "display_name": "Python 3 (ipykernel)",
   "language": "python",
   "name": "python3"
  },
  "language_info": {
   "codemirror_mode": {
    "name": "ipython",
    "version": 3
   },
   "file_extension": ".py",
   "mimetype": "text/x-python",
   "name": "python",
   "nbconvert_exporter": "python",
   "pygments_lexer": "ipython3",
   "version": "3.11.7"
  }
 },
 "nbformat": 4,
 "nbformat_minor": 5
}

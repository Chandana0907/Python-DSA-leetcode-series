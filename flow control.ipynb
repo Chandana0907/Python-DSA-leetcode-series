{
 "cells": [
  {
   "cell_type": "code",
   "execution_count": 5,
   "id": "a7850915-2bd4-4cc9-94e3-16d0ef238316",
   "metadata": {},
   "outputs": [],
   "source": [
    "def even(n):\n",
    "    if n%2==0:\n",
    "        print(f\"the number {n} is even\")\n",
    "    else:\n",
    "        print(\"Not even\")"
   ]
  },
  {
   "cell_type": "code",
   "execution_count": 6,
   "id": "970f5263-17f3-4192-b4ca-830204101f25",
   "metadata": {},
   "outputs": [
    {
     "name": "stdout",
     "output_type": "stream",
     "text": [
      "the number 4 is even\n"
     ]
    }
   ],
   "source": [
    "even(4)"
   ]
  },
  {
   "cell_type": "code",
   "execution_count": 12,
   "id": "1e05849f-ad2f-4506-bd6c-b8ba82c596f9",
   "metadata": {},
   "outputs": [
    {
     "name": "stdout",
     "output_type": "stream",
     "text": [
      "positive\n"
     ]
    }
   ],
   "source": [
    "##write code to check given number is positive or negative\n",
    "num=90\n",
    "if num >=0:\n",
    "    print(\"positive\")\n",
    "else:\n",
    "    print(\"negative\")"
   ]
  },
  {
   "cell_type": "code",
   "execution_count": 20,
   "id": "f945cf18-32c4-431e-8d9d-e47e01df40cf",
   "metadata": {},
   "outputs": [
    {
     "name": "stdin",
     "output_type": "stream",
     "text": [
      "Enter first number:  10\n",
      "Enter second number:  20\n",
      "Enter third number:  30\n"
     ]
    },
    {
     "name": "stdout",
     "output_type": "stream",
     "text": [
      "30 is the largest number\n"
     ]
    }
   ],
   "source": [
    "a = int(input(\"Enter first number: \"))\n",
    "b = int(input(\"Enter second number: \"))\n",
    "c = int(input(\"Enter third number: \"))\n",
    "# Find largest\n",
    "if a >= b and a >= c:\n",
    "    print(f\"{a} is the largest number\")\n",
    "elif b >= a and b >= c:\n",
    "    print(f\"{b} is the largest number\")\n",
    "else:\n",
    "    print(f\"{c} is the largest number\")"
   ]
  },
  {
   "cell_type": "code",
   "execution_count": 23,
   "id": "97a4bc59-0e5b-4f35-849e-2bc1ba6e742d",
   "metadata": {},
   "outputs": [
    {
     "name": "stdin",
     "output_type": "stream",
     "text": [
      "Enter your age 27\n"
     ]
    },
    {
     "name": "stdout",
     "output_type": "stream",
     "text": [
      "adult\n"
     ]
    }
   ],
   "source": [
    "#Take a person’s age as input and check if they are a child (0–12), teenager (13–19), adult (20–59), or senior citizen (60+).\n",
    "age=int(input(\"Enter your age\"))\n",
    "if age>=0 and age<=12:\n",
    "    print(\"child\")\n",
    "elif age>=13 and age<=19:\n",
    "    print(\"teenager\")\n",
    "elif age>=20 and age<=59:\n",
    "    print(\"adult\")\n",
    "else:\n",
    "    print(\"senior citizen\")\n",
    "\n",
    "\n"
   ]
  },
  {
   "cell_type": "code",
   "execution_count": 25,
   "id": "389e64da-1680-4931-b420-927d19ef3a72",
   "metadata": {},
   "outputs": [
    {
     "name": "stdin",
     "output_type": "stream",
     "text": [
      "Enter a number:  10\n"
     ]
    },
    {
     "name": "stdout",
     "output_type": "stream",
     "text": [
      "double digit\n"
     ]
    }
   ],
   "source": [
    "#Input a number and check if it is single-digit, double-digit, or greater.\n",
    "a = int(input(\"Enter a number: \"))\n",
    "if a>=0 and a<=9:\n",
    "    print(\"single digit\")\n",
    "elif a>=10 and a<=99:\n",
    "    print(\"double digit\")\n",
    "else:\n",
    "    print(\"greater than 99\")"
   ]
  },
  {
   "cell_type": "code",
   "execution_count": 27,
   "id": "57d9e6a4-6bf2-437b-ac96-692b42ff5706",
   "metadata": {},
   "outputs": [
    {
     "name": "stdin",
     "output_type": "stream",
     "text": [
      "Enter a year:  2000\n"
     ]
    },
    {
     "name": "stdout",
     "output_type": "stream",
     "text": [
      "2000 is a leap year\n"
     ]
    }
   ],
   "source": [
    "#Take a year as input and check if it is a leap year or not.\n",
    "year = int(input(\"Enter a year: \"))\n",
    "\n",
    "if (year % 400 == 0) or (year % 4 == 0 and year % 100 != 0):\n",
    "    print(year, \"is a leap year\")\n",
    "else:\n",
    "    print(year, \"is not a leap year\")\n",
    "\n"
   ]
  },
  {
   "cell_type": "code",
   "execution_count": null,
   "id": "5b975fa2-7e64-4269-ba1d-471202b42c49",
   "metadata": {},
   "outputs": [],
   "source": [
    "#Write a program to create a simple calculator:\n"
   ]
  }
 ],
 "metadata": {
  "kernelspec": {
   "display_name": "Python 3 (ipykernel)",
   "language": "python",
   "name": "python3"
  },
  "language_info": {
   "codemirror_mode": {
    "name": "ipython",
    "version": 3
   },
   "file_extension": ".py",
   "mimetype": "text/x-python",
   "name": "python",
   "nbconvert_exporter": "python",
   "pygments_lexer": "ipython3",
   "version": "3.11.7"
  }
 },
 "nbformat": 4,
 "nbformat_minor": 5
}

{
 "cells": [
  {
   "cell_type": "code",
   "execution_count": 1,
   "id": "41c51379-939d-469a-b266-a18a79a8d139",
   "metadata": {},
   "outputs": [],
   "source": [
    "## Implementation of queue using lis\n",
    "queue=[]\n",
    "def enqueue():\n",
    "    element=int(input(\"Enter a element\"))\n",
    "    queue.append(element)\n",
    "def dequeue():\n",
    "    queue.pop(0)\n",
    "def display():\n",
    "    print(queue)"
   ]
  },
  {
   "cell_type": "code",
   "execution_count": null,
   "id": "7698d5bf-a5a4-471e-ac65-c2518c56bdfb",
   "metadata": {},
   "outputs": [
    {
     "name": "stdout",
     "output_type": "stream",
     "text": [
      "select any option\n"
     ]
    },
    {
     "name": "stdin",
     "output_type": "stream",
     "text": [
      " 1\n",
      "Enter a element 10\n"
     ]
    },
    {
     "name": "stdout",
     "output_type": "stream",
     "text": [
      "select any option\n"
     ]
    },
    {
     "name": "stdin",
     "output_type": "stream",
     "text": [
      " 1\n",
      "Enter a element 20\n"
     ]
    },
    {
     "name": "stdout",
     "output_type": "stream",
     "text": [
      "select any option\n"
     ]
    },
    {
     "name": "stdin",
     "output_type": "stream",
     "text": [
      " 1\n",
      "Enter a element 30\n"
     ]
    },
    {
     "name": "stdout",
     "output_type": "stream",
     "text": [
      "select any option\n"
     ]
    },
    {
     "name": "stdin",
     "output_type": "stream",
     "text": [
      " 1\n",
      "Enter a element 40\n"
     ]
    },
    {
     "name": "stdout",
     "output_type": "stream",
     "text": [
      "select any option\n"
     ]
    },
    {
     "name": "stdin",
     "output_type": "stream",
     "text": [
      " 2\n"
     ]
    },
    {
     "name": "stdout",
     "output_type": "stream",
     "text": [
      "select any option\n"
     ]
    },
    {
     "name": "stdin",
     "output_type": "stream",
     "text": [
      " 3\n"
     ]
    },
    {
     "name": "stdout",
     "output_type": "stream",
     "text": [
      "[20, 30, 40]\n",
      "select any option\n"
     ]
    },
    {
     "name": "stdin",
     "output_type": "stream",
     "text": [
      " 5\n"
     ]
    },
    {
     "name": "stdout",
     "output_type": "stream",
     "text": [
      "Enter the above choice\n",
      "select any option\n"
     ]
    },
    {
     "name": "stdin",
     "output_type": "stream",
     "text": [
      " 1\n"
     ]
    }
   ],
   "source": [
    "while True:\n",
    "    print(\"select any option\")\n",
    "    choice=int(input())\n",
    "    if choice==1:\n",
    "        enqueue()\n",
    "    elif choice==2:\n",
    "        dequeue()\n",
    "    elif choice==3:\n",
    "        display()\n",
    "    else:\n",
    "        print(\"Enter the above choice\")\n",
    "        break"
   ]
  },
  {
   "cell_type": "code",
   "execution_count": null,
   "id": "5c027923-a711-4260-bb5e-f2fd4d70b254",
   "metadata": {},
   "outputs": [],
   "source": [
    "###array implementation of Queue\n",
    "class queue:\n",
    "    def __init__(self,size):\n",
    "        self.size=size\n",
    "        self.queue=[None]*size\n",
    "        self.front=0\n",
    "        self.rear=0\n",
    "    def enqueue(self,item):\n",
    "        if self.rear==self.size:\n",
    "            print(\"Queue is full\")\n",
    "            return\n",
    "        self.queue[self.rear]=item\n",
    "        self.rear+=1\n",
    "    def dequeue(self):\n",
    "        if self.rear==self.front:\n",
    "            print(\"Queue is empty\")\n",
    "            return\n",
    "        item=self.queue[self.front]\n",
    "        self.front+=1\n",
    "        print(f\"{item} is removed\")\n",
    "    def disply(self):\n",
    "        if self.rear==self.front:\n",
    "            print(\"Queue is empty\")\n",
    "        for i in range(self.front,self.rear):\n",
    "            print(self.queue[i])\n",
    "            "
   ]
  },
  {
   "cell_type": "code",
   "execution_count": null,
   "id": "b78d445e-1064-4edd-8224-8b0e560bfae2",
   "metadata": {},
   "outputs": [],
   "source": []
  }
 ],
 "metadata": {
  "kernelspec": {
   "display_name": "Python 3 (ipykernel)",
   "language": "python",
   "name": "python3"
  },
  "language_info": {
   "codemirror_mode": {
    "name": "ipython",
    "version": 3
   },
   "file_extension": ".py",
   "mimetype": "text/x-python",
   "name": "python",
   "nbconvert_exporter": "python",
   "pygments_lexer": "ipython3",
   "version": "3.11.7"
  }
 },
 "nbformat": 4,
 "nbformat_minor": 5
}
